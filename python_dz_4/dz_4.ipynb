{
 "cells": [
  {
   "cell_type": "code",
   "execution_count": 1,
   "id": "b916c44c",
   "metadata": {
    "scrolled": true
   },
   "outputs": [],
   "source": [
    "documents = [\n",
    "{'type': 'passport', 'number': '2207 876234', 'name': 'Василий Гупкин'},\n",
    "{'type': 'invoice', 'number': '11-2', 'name': 'Геннадий Покемонов'},\n",
    "{'type': 'insurance', 'number': '10006', 'name': 'Аристарх Павлов'}\n",
    "]"
   ]
  },
  {
   "cell_type": "code",
   "execution_count": 2,
   "id": "735fa4fb",
   "metadata": {},
   "outputs": [],
   "source": [
    "directories = {\n",
    "'1': ['2207 876234', '11-2'],\n",
    "'2': ['10006'],\n",
    "'3': []\n",
    "}"
   ]
  },
  {
   "cell_type": "code",
   "execution_count": 3,
   "id": "1d359332",
   "metadata": {},
   "outputs": [
    {
     "name": "stdout",
     "output_type": "stream",
     "text": [
      "Введите, пожалуйста, номер документа: 11-2\n",
      " Владелец документа:  Геннадий Покемонов\n"
     ]
    }
   ],
   "source": [
    "def people_document(doc):\n",
    "    \"\"\"\n",
    "    Команда \"p\" - находит владельца по номеру документа\n",
    "    \n",
    "    \"\"\"\n",
    "    user_input = input('Введите, пожалуйста, номер документа: ')\n",
    "    for doc in documents:\n",
    "        if doc['number'] == user_input:\n",
    "            print(' Владелец документа: ', doc['name'])\n",
    "            break\n",
    "    else:\n",
    "        print('  Внимание! Такого документа нет. Проверьте правильность ввода')\n",
    "        \n",
    "people_document(documents)"
   ]
  },
  {
   "cell_type": "code",
   "execution_count": 4,
   "id": "75e7bf90",
   "metadata": {},
   "outputs": [
    {
     "name": "stdout",
     "output_type": "stream",
     "text": [
      "Номер документа: 11-2\n",
      "1\n"
     ]
    }
   ],
   "source": [
    "#print(directories)\n",
    "def shelf_number(direct):\n",
    "    \"\"\"\n",
    "    Команда \"s\" - находит номер полки по номеру документа\n",
    "    \"\"\"\n",
    "    x = input(\"Номер документа: \")\n",
    "    for i in directories.items():\n",
    "        if x in i[1]:\n",
    "            print (i[0])\n",
    "shelf_number(directories)"
   ]
  },
  {
   "cell_type": "code",
   "execution_count": 5,
   "id": "d19354e1",
   "metadata": {},
   "outputs": [
    {
     "name": "stdout",
     "output_type": "stream",
     "text": [
      "№: 2207 876234, тип: passport, владелец: Василий Гупкин, полка: 1\n",
      "№: 11-2, тип: invoice, владелец: Геннадий Покемонов, полка: 1\n",
      "№: 10006, тип: insurance, владелец: Аристарх Павлов, полка: 2\n"
     ]
    }
   ],
   "source": [
    "def people_list(docs, dirs):\n",
    "    \"\"\"\n",
    "    Команда \"l\" - показывает полную информацию по всем документам\n",
    "    \"\"\"\n",
    "    for shelf, content in directories.items():\n",
    "        for persons in documents:\n",
    "            if persons['number'] in content:\n",
    "                print(f\"№: {persons['number']}, тип: {persons['type']}, владелец: {persons['name']}, полка: {shelf}\")\n",
    "\n",
    "people_list(documents,directories)"
   ]
  },
  {
   "cell_type": "code",
   "execution_count": 6,
   "id": "da08e2bf",
   "metadata": {},
   "outputs": [
    {
     "name": "stdout",
     "output_type": "stream",
     "text": [
      "Введите номер полки: 4\n",
      "Полка добавлена. Текущий перечень полок: ['1', '2', '3', '4']\n"
     ]
    },
    {
     "ename": "RuntimeError",
     "evalue": "dictionary changed size during iteration",
     "output_type": "error",
     "traceback": [
      "\u001b[1;31m---------------------------------------------------------------------------\u001b[0m",
      "\u001b[1;31mRuntimeError\u001b[0m                              Traceback (most recent call last)",
      "\u001b[1;32m<ipython-input-6-520e5f816ccd>\u001b[0m in \u001b[0;36m<module>\u001b[1;34m\u001b[0m\n\u001b[0;32m     11\u001b[0m             \u001b[0mdirectories\u001b[0m\u001b[1;33m[\u001b[0m\u001b[0mshelf\u001b[0m\u001b[1;33m]\u001b[0m \u001b[1;33m=\u001b[0m \u001b[1;33m[\u001b[0m\u001b[1;33m]\u001b[0m\u001b[1;33m\u001b[0m\u001b[1;33m\u001b[0m\u001b[0m\n\u001b[0;32m     12\u001b[0m         \u001b[0mprint\u001b[0m\u001b[1;33m(\u001b[0m\u001b[1;34mf\"Полка добавлена. Текущий перечень полок: {list(directories.keys())}\"\u001b[0m\u001b[1;33m)\u001b[0m\u001b[1;33m\u001b[0m\u001b[1;33m\u001b[0m\u001b[0m\n\u001b[1;32m---> 13\u001b[1;33m \u001b[0mnew_shelf\u001b[0m\u001b[1;33m(\u001b[0m\u001b[1;33m)\u001b[0m\u001b[1;33m\u001b[0m\u001b[1;33m\u001b[0m\u001b[0m\n\u001b[0m",
      "\u001b[1;32m<ipython-input-6-520e5f816ccd>\u001b[0m in \u001b[0;36mnew_shelf\u001b[1;34m()\u001b[0m\n\u001b[0;32m      4\u001b[0m     \"\"\"\n\u001b[0;32m      5\u001b[0m     \u001b[0mshelf\u001b[0m \u001b[1;33m=\u001b[0m \u001b[0minput\u001b[0m\u001b[1;33m(\u001b[0m\u001b[1;34m\"Введите номер полки: \"\u001b[0m\u001b[1;33m)\u001b[0m\u001b[1;33m\u001b[0m\u001b[1;33m\u001b[0m\u001b[0m\n\u001b[1;32m----> 6\u001b[1;33m     \u001b[1;32mfor\u001b[0m \u001b[0mdirect\u001b[0m \u001b[1;32min\u001b[0m \u001b[0mdirectories\u001b[0m\u001b[1;33m.\u001b[0m\u001b[0mitems\u001b[0m\u001b[1;33m(\u001b[0m\u001b[1;33m)\u001b[0m\u001b[1;33m:\u001b[0m\u001b[1;33m\u001b[0m\u001b[1;33m\u001b[0m\u001b[0m\n\u001b[0m\u001b[0;32m      7\u001b[0m         \u001b[1;32mif\u001b[0m \u001b[0mshelf\u001b[0m \u001b[1;32min\u001b[0m \u001b[0mdirect\u001b[0m\u001b[1;33m[\u001b[0m\u001b[1;36m0\u001b[0m\u001b[1;33m]\u001b[0m\u001b[1;33m:\u001b[0m\u001b[1;33m\u001b[0m\u001b[1;33m\u001b[0m\u001b[0m\n\u001b[0;32m      8\u001b[0m             \u001b[0mprint\u001b[0m\u001b[1;33m(\u001b[0m\u001b[1;34mf\"Такая полка уже существует. Текущий перечень полок: {list(directories.keys())}\"\u001b[0m\u001b[1;33m)\u001b[0m\u001b[1;33m\u001b[0m\u001b[1;33m\u001b[0m\u001b[0m\n",
      "\u001b[1;31mRuntimeError\u001b[0m: dictionary changed size during iteration"
     ]
    }
   ],
   "source": [
    "def new_shelf():\n",
    "    \"\"\"\n",
    "    Команда \"ads\" - добавляет новую полку\n",
    "    \"\"\"\n",
    "    shelf = input(\"Введите номер полки: \")\n",
    "    for direct in directories.items():\n",
    "        if shelf in direct[0]:\n",
    "            print(f\"Такая полка уже существует. Текущий перечень полок: {list(directories.keys())}\")\n",
    "            break\n",
    "        else:\n",
    "            directories[shelf] = []\n",
    "        print(f\"Полка добавлена. Текущий перечень полок: {list(directories.keys())}\")     \n",
    "new_shelf()"
   ]
  },
  {
   "cell_type": "code",
   "execution_count": 7,
   "id": "f88a4e3d",
   "metadata": {},
   "outputs": [
    {
     "name": "stdout",
     "output_type": "stream",
     "text": [
      "Введите номер полки: 4\n",
      "Полка удалена. Текущий перечень полок: ['1', '2', '3']\n"
     ]
    },
    {
     "ename": "RuntimeError",
     "evalue": "dictionary changed size during iteration",
     "output_type": "error",
     "traceback": [
      "\u001b[1;31m---------------------------------------------------------------------------\u001b[0m",
      "\u001b[1;31mRuntimeError\u001b[0m                              Traceback (most recent call last)",
      "\u001b[1;32m<ipython-input-7-ae214d54f910>\u001b[0m in \u001b[0;36m<module>\u001b[1;34m\u001b[0m\n\u001b[0;32m     14\u001b[0m             \u001b[0mprint\u001b[0m\u001b[1;33m(\u001b[0m\u001b[1;34mf\"Такой полки не существует. Текущий перечень полок:\"\u001b[0m\u001b[1;33m,\u001b[0m \u001b[0mlist\u001b[0m\u001b[1;33m(\u001b[0m\u001b[0mdirectories\u001b[0m\u001b[1;33m.\u001b[0m\u001b[0mkeys\u001b[0m\u001b[1;33m(\u001b[0m\u001b[1;33m)\u001b[0m\u001b[1;33m)\u001b[0m\u001b[1;33m)\u001b[0m\u001b[1;33m\u001b[0m\u001b[1;33m\u001b[0m\u001b[0m\n\u001b[0;32m     15\u001b[0m \u001b[1;33m\u001b[0m\u001b[0m\n\u001b[1;32m---> 16\u001b[1;33m \u001b[0mrem_shelf\u001b[0m\u001b[1;33m(\u001b[0m\u001b[1;33m)\u001b[0m\u001b[1;33m\u001b[0m\u001b[1;33m\u001b[0m\u001b[0m\n\u001b[0m",
      "\u001b[1;32m<ipython-input-7-ae214d54f910>\u001b[0m in \u001b[0;36mrem_shelf\u001b[1;34m()\u001b[0m\n\u001b[0;32m      4\u001b[0m     \"\"\"\n\u001b[0;32m      5\u001b[0m     \u001b[0muser_input\u001b[0m \u001b[1;33m=\u001b[0m \u001b[0mstr\u001b[0m\u001b[1;33m(\u001b[0m\u001b[0minput\u001b[0m\u001b[1;33m(\u001b[0m\u001b[1;34m\"Введите номер полки: \"\u001b[0m\u001b[1;33m)\u001b[0m\u001b[1;33m)\u001b[0m\u001b[1;33m\u001b[0m\u001b[1;33m\u001b[0m\u001b[0m\n\u001b[1;32m----> 6\u001b[1;33m     \u001b[1;32mfor\u001b[0m \u001b[0mnumber\u001b[0m \u001b[1;32min\u001b[0m \u001b[0mdirectories\u001b[0m\u001b[1;33m.\u001b[0m\u001b[0mitems\u001b[0m\u001b[1;33m(\u001b[0m\u001b[1;33m)\u001b[0m\u001b[1;33m:\u001b[0m\u001b[1;33m\u001b[0m\u001b[1;33m\u001b[0m\u001b[0m\n\u001b[0m\u001b[0;32m      7\u001b[0m         \u001b[1;32mif\u001b[0m \u001b[0mlen\u001b[0m\u001b[1;33m(\u001b[0m\u001b[0mdirectories\u001b[0m\u001b[1;33m[\u001b[0m\u001b[0muser_input\u001b[0m\u001b[1;33m]\u001b[0m\u001b[1;33m)\u001b[0m \u001b[1;33m>\u001b[0m \u001b[1;36m0\u001b[0m\u001b[1;33m:\u001b[0m\u001b[1;33m\u001b[0m\u001b[1;33m\u001b[0m\u001b[0m\n\u001b[0;32m      8\u001b[0m             \u001b[0mprint\u001b[0m\u001b[1;33m(\u001b[0m\u001b[1;34mf\"На полке есть документы, удалите их перед удалением полки. Текущий перечень полок:\"\u001b[0m\u001b[1;33m,\u001b[0m \u001b[0mlist\u001b[0m\u001b[1;33m(\u001b[0m\u001b[0mdirectories\u001b[0m\u001b[1;33m.\u001b[0m\u001b[0mkeys\u001b[0m\u001b[1;33m(\u001b[0m\u001b[1;33m)\u001b[0m\u001b[1;33m)\u001b[0m\u001b[1;33m)\u001b[0m\u001b[1;33m\u001b[0m\u001b[1;33m\u001b[0m\u001b[0m\n",
      "\u001b[1;31mRuntimeError\u001b[0m: dictionary changed size during iteration"
     ]
    }
   ],
   "source": [
    "def rem_shelf():\n",
    "    \"\"\"\n",
    "    Команда \"ds\" - удаляет полку если она пуста\n",
    "    \"\"\"\n",
    "    user_input = str(input(\"Введите номер полки: \"))\n",
    "    for number in directories.items():\n",
    "        if len(directories[user_input]) > 0:\n",
    "            print(f\"На полке есть документы, удалите их перед удалением полки. Текущий перечень полок:\", list(directories.keys()))\n",
    "            break\n",
    "        elif len(directories[user_input]) <= 0:\n",
    "            del directories[user_input]\n",
    "            print(f\"Полка удалена. Текущий перечень полок:\", list(directories.keys()))\n",
    "        else:\n",
    "            print(f\"Такой полки не существует. Текущий перечень полок:\", list(directories.keys()))\n",
    "    \n",
    "rem_shelf()"
   ]
  },
  {
   "cell_type": "code",
   "execution_count": 10,
   "id": "17ea308e",
   "metadata": {},
   "outputs": [
    {
     "name": "stdout",
     "output_type": "stream",
     "text": [
      "Введите команду:q\n",
      "До свидания\n"
     ]
    }
   ],
   "source": [
    "def main():\n",
    "    while True:\n",
    "        command=input('Введите команду:')\n",
    "        if command =='p':\n",
    "            people_document(documents)\n",
    "        elif command =='s':\n",
    "            shelf_number(directories)\n",
    "        elif command =='l':\n",
    "            people_list(documents,directories)\n",
    "        elif command =='ads':\n",
    "            new_shelf()\n",
    "        elif command =='ds':\n",
    "            rem_shelf()\n",
    "        elif command =='q':\n",
    "            print('До свидания')\n",
    "            break\n",
    "main()"
   ]
  }
 ],
 "metadata": {
  "kernelspec": {
   "display_name": "Python 3",
   "language": "python",
   "name": "python3"
  },
  "language_info": {
   "codemirror_mode": {
    "name": "ipython",
    "version": 3
   },
   "file_extension": ".py",
   "mimetype": "text/x-python",
   "name": "python",
   "nbconvert_exporter": "python",
   "pygments_lexer": "ipython3",
   "version": "3.8.8"
  }
 },
 "nbformat": 4,
 "nbformat_minor": 5
}
