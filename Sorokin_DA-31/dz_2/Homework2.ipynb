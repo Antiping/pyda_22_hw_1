{
 "cells": [
  {
   "cell_type": "markdown",
   "id": "75953faf",
   "metadata": {},
   "source": [
    "Домашнее задание «Управляющие конструкции и коллекции» часть 1"
   ]
  },
  {
   "cell_type": "code",
   "execution_count": null,
   "id": "bbd32d80",
   "metadata": {},
   "outputs": [],
   "source": []
  },
  {
   "cell_type": "code",
   "execution_count": null,
   "id": "e87b1ad6",
   "metadata": {},
   "outputs": [],
   "source": []
  },
  {
   "cell_type": "markdown",
   "id": "ae8f2080",
   "metadata": {},
   "source": [
    "Задание 1."
   ]
  },
  {
   "cell_type": "code",
   "execution_count": 32,
   "id": "39fbfdbe",
   "metadata": {},
   "outputs": [
    {
     "name": "stdout",
     "output_type": "stream",
     "text": [
      "t\n"
     ]
    }
   ],
   "source": [
    "stroka=str('Bulletproof')\n",
    "dlina=len(stroka)\n",
    "if len(stroka) % 2 == 0:\n",
    "    print(stroka[dlina//2-1:dlina//2+1])\n",
    "else:\n",
    "    print(stroka[dlina//2])"
   ]
  },
  {
   "cell_type": "markdown",
   "id": "105060b1",
   "metadata": {},
   "source": [
    "Задание 2."
   ]
  },
  {
   "cell_type": "code",
   "execution_count": 36,
   "id": "228d5423",
   "metadata": {},
   "outputs": [
    {
     "name": "stdout",
     "output_type": "stream",
     "text": [
      "Введите число:5\n",
      "Введите число:5\n",
      "Введите число:5\n",
      "Введите число:0\n",
      "15.0\n"
     ]
    }
   ],
   "source": [
    "summ=float(0)\n",
    "\n",
    "\n",
    "while x != 0:\n",
    "    x=float(input(\"Введите число:\"))\n",
    "    summ=summ+x\n",
    "    \n",
    "if x==0:\n",
    "    print(summ)"
   ]
  },
  {
   "cell_type": "markdown",
   "id": "37096ee4",
   "metadata": {},
   "source": [
    "Задание 3."
   ]
  },
  {
   "cell_type": "code",
   "execution_count": 4,
   "id": "8b2557f1",
   "metadata": {},
   "outputs": [
    {
     "name": "stdout",
     "output_type": "stream",
     "text": [
      "Идеальные пары:\n",
      "Alex and Emma\n",
      "Arthur and Kate\n",
      "John and Kira\n",
      "Peter and Lia\n",
      "Richard and Liza\n"
     ]
    }
   ],
   "source": [
    "boys = ['Peter', 'Alex', 'John', 'Arthur', 'Richard']\n",
    "girls = ['Kate', 'Liza', 'Kira', 'Emma', 'Lia']\n",
    "\n",
    "boys_sorted=sorted(boys)\n",
    "girls_sorted=sorted(girls)\n",
    "\n",
    "x=len(boys)\n",
    "n = -1\n",
    "\n",
    "if len(boys)==len(girls):\n",
    "    print('Идеальные пары:') \n",
    "    while x != 0:\n",
    "        print(boys_sorted[n+1]+' and '+girls_sorted[n+1])\n",
    "        n = n+1\n",
    "        x = x-1\n",
    "else: \n",
    "    print('Внимание, кто-то может остаться без пары!')"
   ]
  },
  {
   "cell_type": "markdown",
   "id": "70059ecd",
   "metadata": {},
   "source": [
    "Задание 4."
   ]
  },
  {
   "cell_type": "code",
   "execution_count": 11,
   "id": "1c1d99bc",
   "metadata": {},
   "outputs": [
    {
     "name": "stdout",
     "output_type": "stream",
     "text": [
      "Thailand - 23.857142857142854 C\n",
      "Germany - 13.799999999999997 C\n",
      "Russia - 3.7142857142857166 C\n",
      "Poland - 11.999999999999996 C\n"
     ]
    }
   ],
   "source": [
    "import copy\n",
    "countries_temperature = [\n",
    "['Thailand', [75.2, 77, 78.8, 73.4, 68, 75.2, 77]],\n",
    "['Germany', [57.2, 55.4, 59, 59, 53.6]],\n",
    "['Russia', [35.6, 37.4, 39.2, 41, 42.8, 39.2, 35.6]],\n",
    "['Poland', [50, 50, 53.6, 57.2, 55.4, 55.4]]\n",
    "]\n",
    "\n",
    "countries_temperature2=copy.copy(countries_temperature)\n",
    "\n",
    "for i in countries_temperature:\n",
    "    print(i[0], '-', ((sum(i[1]) / len(i[1]) - 32) / 1.8), 'C')    \n"
   ]
  },
  {
   "cell_type": "code",
   "execution_count": null,
   "id": "1981aa46",
   "metadata": {},
   "outputs": [],
   "source": []
  },
  {
   "cell_type": "code",
   "execution_count": null,
   "id": "4a61e03a",
   "metadata": {},
   "outputs": [],
   "source": []
  },
  {
   "cell_type": "code",
   "execution_count": null,
   "id": "4a24459d",
   "metadata": {},
   "outputs": [],
   "source": []
  }
 ],
 "metadata": {
  "kernelspec": {
   "display_name": "Python 3",
   "language": "python",
   "name": "python3"
  },
  "language_info": {
   "codemirror_mode": {
    "name": "ipython",
    "version": 3
   },
   "file_extension": ".py",
   "mimetype": "text/x-python",
   "name": "python",
   "nbconvert_exporter": "python",
   "pygments_lexer": "ipython3",
   "version": "3.8.8"
  }
 },
 "nbformat": 4,
 "nbformat_minor": 5
}
