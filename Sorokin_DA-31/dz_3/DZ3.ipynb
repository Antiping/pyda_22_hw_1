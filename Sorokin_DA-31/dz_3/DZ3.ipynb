{
 "cells": [
  {
   "cell_type": "markdown",
   "id": "d55fe184",
   "metadata": {},
   "source": [
    "Задание 1."
   ]
  },
  {
   "cell_type": "code",
   "execution_count": 1,
   "id": "5e44fedd",
   "metadata": {},
   "outputs": [
    {
     "name": "stdout",
     "output_type": "stream",
     "text": [
      "{98, 35, 15, 213, 54, 119}\n"
     ]
    }
   ],
   "source": [
    "ids = {'user1': [213, 213, 213, 15, 213], \n",
    "       'user2': [54, 54, 119, 119, 119], \n",
    "       'user3': [213, 98, 98, 35]}\n",
    "\n",
    "print(set(sum(ids.values(),[])))"
   ]
  },
  {
   "cell_type": "code",
   "execution_count": null,
   "id": "1bd0efa7",
   "metadata": {},
   "outputs": [],
   "source": []
  },
  {
   "cell_type": "markdown",
   "id": "724fa3f3",
   "metadata": {},
   "source": [
    "Задание 2."
   ]
  },
  {
   "cell_type": "code",
   "execution_count": 2,
   "id": "d0fadfa8",
   "metadata": {},
   "outputs": [
    {
     "name": "stdout",
     "output_type": "stream",
     "text": [
      "Поисковых запросов из 3 слова: 57.14285714285714%\n",
      "Поисковых запросов из 2 слова: 42.857142857142854%\n"
     ]
    }
   ],
   "source": [
    "queries = [\n",
    "    'смотреть сериалы онлайн',\n",
    "    'новости спорта',\n",
    "    'афиша кино',\n",
    "    'курс доллара',\n",
    "    'сериалы этим летом',\n",
    "    'курс по питону',\n",
    "    'сериалы про спорт',\n",
    "]\n",
    "\n",
    "slovar = {}\n",
    "\n",
    "for i in queries:\n",
    "    words = i.split(' ')\n",
    "    if len(words) in slovar.keys():\n",
    "        slovar[len(words)] += 1\n",
    "    else:\n",
    "        slovar.update({len(words): 1})\n",
    "    #print(slovar)\n",
    "for key, value in slovar.items():\n",
    "    #print(slovar)\n",
    "    per = (value / len(queries)) * 100\n",
    "    print(f'Поисковых запросов из {key} слова: {per}%')"
   ]
  },
  {
   "cell_type": "markdown",
   "id": "6277772a",
   "metadata": {},
   "source": [
    "Задание 3."
   ]
  },
  {
   "cell_type": "code",
   "execution_count": 3,
   "id": "3333ef44",
   "metadata": {},
   "outputs": [
    {
     "name": "stdout",
     "output_type": "stream",
     "text": [
      "vk {'revenue': 103, 'cost': 98, 'ROI': 5.102040816326525}\n",
      "yandex {'revenue': 179, 'cost': 153, 'ROI': 16.99346405228759}\n",
      "facebook {'revenue': 103, 'cost': 110, 'ROI': -6.36363636363636}\n",
      "adwords {'revenue': 35, 'cost': 34, 'ROI': 2.941176470588225}\n",
      "twitter {'revenue': 11, 'cost': 24, 'ROI': -54.16666666666667}\n"
     ]
    }
   ],
   "source": [
    "results = {\n",
    "    'vk': {'revenue': 103, 'cost': 98},\n",
    "    'yandex': {'revenue': 179, 'cost': 153},\n",
    "    'facebook': {'revenue': 103, 'cost': 110},\n",
    "    'adwords': {'revenue': 35, 'cost': 34},\n",
    "    'twitter': {'revenue': 11, 'cost': 24},\n",
    "}\n",
    "for key, value in results.items():\n",
    "    value['ROI'] = ((value['revenue'] / value['cost'] - 1) * 100)\n",
    "    print(key, value)"
   ]
  },
  {
   "cell_type": "markdown",
   "id": "298db404",
   "metadata": {},
   "source": [
    "Задание 4."
   ]
  },
  {
   "cell_type": "code",
   "execution_count": 4,
   "id": "70a772ce",
   "metadata": {},
   "outputs": [
    {
     "name": "stdout",
     "output_type": "stream",
     "text": [
      "vk\n"
     ]
    }
   ],
   "source": [
    "stats = {'facebook': 55, 'yandex': 115, 'vk': 120, 'google': 99, 'email': 42, 'ok': 98}\n",
    "\n",
    "razd = ''\n",
    "for i in stats.keys():\n",
    "    if stats[i] > stats.get(razd, 0):\n",
    "        #print(stats[i])\n",
    "        razd = i\n",
    "print(razd)"
   ]
  },
  {
   "cell_type": "markdown",
   "id": "89669946",
   "metadata": {},
   "source": [
    "Задание 5."
   ]
  },
  {
   "cell_type": "code",
   "execution_count": null,
   "id": "74497ef1",
   "metadata": {},
   "outputs": [],
   "source": []
  },
  {
   "cell_type": "markdown",
   "id": "39cab058",
   "metadata": {},
   "source": [
    "Задание 6."
   ]
  },
  {
   "cell_type": "code",
   "execution_count": null,
   "id": "7da7a3b4",
   "metadata": {},
   "outputs": [],
   "source": []
  }
 ],
 "metadata": {
  "kernelspec": {
   "display_name": "Python 3",
   "language": "python",
   "name": "python3"
  },
  "language_info": {
   "codemirror_mode": {
    "name": "ipython",
    "version": 3
   },
   "file_extension": ".py",
   "mimetype": "text/x-python",
   "name": "python",
   "nbconvert_exporter": "python",
   "pygments_lexer": "ipython3",
   "version": "3.8.8"
  }
 },
 "nbformat": 4,
 "nbformat_minor": 5
}
