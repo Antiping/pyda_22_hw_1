{
 "cells": [
  {
   "cell_type": "markdown",
   "id": "3a14b75d",
   "metadata": {},
   "source": [
    "Задание 1."
   ]
  },
  {
   "cell_type": "code",
   "execution_count": 4,
   "id": "39c0bd4b",
   "metadata": {},
   "outputs": [
    {
     "name": "stdout",
     "output_type": "stream",
     "text": [
      "Фраза 1 равна Фразе 2\n"
     ]
    }
   ],
   "source": [
    "phrase_1 = \"640Кб должно хватить для любых задач. Билл Гейтс (по легенде)\"\n",
    "phrase_2 = \"640Кб должно хватить для любых задач. Билл Гейтс (по легенде)\"\n",
    "\n",
    "if len(phrase_1) > len(phrase_2):\n",
    "    print('Фраза 1 длиннее Фразы 2')\n",
    "elif len(phrase_1) == len(phrase_2):\n",
    "    print('Фраза 1 равна Фразе 2')\n",
    "else:\n",
    "    print('Фраза 1 меньше Фразы 2')"
   ]
  },
  {
   "cell_type": "markdown",
   "id": "ea9a7571",
   "metadata": {},
   "source": [
    "Задание 2."
   ]
  },
  {
   "cell_type": "code",
   "execution_count": 14,
   "id": "d338c717",
   "metadata": {
    "scrolled": true
   },
   "outputs": [
    {
     "name": "stdout",
     "output_type": "stream",
     "text": [
      "Год невисокосный\n"
     ]
    }
   ],
   "source": [
    "year = 2100\n",
    "\n",
    "if year % 4 != 0 or (year % 100 == 0 and year % 400 !=0):\n",
    "    print ('Год невисокосный')\n",
    "else:\n",
    "    print('Год високосный')"
   ]
  },
  {
   "cell_type": "markdown",
   "id": "50c70d66",
   "metadata": {},
   "source": [
    "Задание 3."
   ]
  },
  {
   "cell_type": "code",
   "execution_count": 23,
   "id": "11706f24",
   "metadata": {},
   "outputs": [
    {
     "name": "stdout",
     "output_type": "stream",
     "text": [
      "День рождения:23\n",
      "Месяц рождения:Август\n",
      "Ваш знак зодиака: Лев\n"
     ]
    }
   ],
   "source": [
    "date=int(input(\"День рождения:\"))\n",
    "month=input(\"Месяц рождения:\")\n",
    "\n",
    "if month==\"Январь\":\n",
    "    month = 1\n",
    "elif month==\"Февраль\": \n",
    "    month = 2\n",
    "elif month==\"Март\": \n",
    "    month = 3\n",
    "elif month==\"Апрель\": \n",
    "    month = 4\n",
    "elif month==\"Май\": \n",
    "    month = 5\n",
    "elif month==\"Июнь\": \n",
    "    month = 6\n",
    "elif month==\"Июль\": \n",
    "    month = 7\n",
    "elif month==\"Август\": \n",
    "    month = 8\n",
    "elif month==\"Сентябрь\": \n",
    "    month = 9\n",
    "elif month==\"Октябрь\": \n",
    "    month = 10\n",
    "elif month==\"Ноябрь\": \n",
    "    month = 11\n",
    "elif month==\"Декабрь\": \n",
    "    month = 12\n",
    "else: print('Некорректный месяц, используйте именительный падеж.')\n",
    "\n",
    "if (date >= 21 and date <= 31 and month == 3) or (month==4 and date>=1 and date<=19):\n",
    "    print('Ваш знак зодиака: Овен')\n",
    "elif (date>=20 and date<=30 and month==4) or (month==5 and date>=1 and date<=20):\n",
    "    print('Ваш знак зодиака: Телец')\n",
    "elif (date>=21 and date<=31 and month==5) or (month==6 and date>=1 and date<=21):\n",
    "    print('Ваш знак зодиака: Близнецы')\n",
    "elif (date>=22 and date<=30 and month==6) or (month==7 and date>=1 and date<=22):\n",
    "    print('Ваш знак зодиака: Рак')\n",
    "elif (date>=23 and date<=31 and month==7) or (month==8 and date>=1 and date<=23):\n",
    "    print('Ваш знак зодиака: Лев')\n",
    "elif (date>=24 and date<=31 and month==8) or (month==9 and date>=1 and date<=22):\n",
    "    print('Ваш знак зодиака: Дева')\n",
    "elif (date>=23 and date<=30 and month==9) or (month==10 and date>=1 and date<=23):\n",
    "    print('Ваш знак зодиака: Весы')\n",
    "elif (date>=24 and date<=31 and month==10) or (month==11 and date>=1 and date<=22):\n",
    "    print('Ваш знак зодиака: Скорпион')\n",
    "elif (date>=23 and date<=30 and month==11) or (month==12 and date>=1 and date<=21):\n",
    "    print('Ваш знак зодиака: Стрелец')\n",
    "elif (date>=22 and date<=31 and month==12) or (month==1 and date>=1 and date<=20):\n",
    "    print('Ваш знак зодиака: Козерог')\n",
    "elif (date>=21 and date<=31 and month==1) or (month==2 and date>=1 and date<=18):\n",
    "    print('Ваш знак зодиака: Водолей')\n",
    "elif (date>=19 and date<=29 and month==2) or (month==3 and date>=1 and date<=20):\n",
    "    print('Ваш знак зодиака: Рыбы')"
   ]
  },
  {
   "cell_type": "markdown",
   "id": "dc8500ee",
   "metadata": {},
   "source": [
    "Задание 4."
   ]
  },
  {
   "cell_type": "code",
   "execution_count": 31,
   "id": "44a80613",
   "metadata": {
    "scrolled": true
   },
   "outputs": [
    {
     "name": "stdout",
     "output_type": "stream",
     "text": [
      "Ширина  (см):300\n",
      "Длина (см):100\n",
      "Высота (см):300\n",
      "Стандартная упаковка №3\n"
     ]
    }
   ],
   "source": [
    "width=int(input(\"Ширина  (см):\"))\n",
    "length=int(input(\"Длина (см):\"))\n",
    "height=int(input(\"Высота (см):\"))\n",
    "\n",
    "if length>200:\n",
    "    print('Упаковка для лыж')\n",
    "elif width<15 and length<15 and height<15:\n",
    "    print('Коробка №1')\n",
    "elif (width>15 and width<50) or (length>15 and length<50) or (height>15 and height<50):\n",
    "    print('Коробка №2')\n",
    "else: \n",
    "    print('Стандартная упаковка №3')"
   ]
  },
  {
   "cell_type": "markdown",
   "id": "292a9860",
   "metadata": {},
   "source": [
    "Задание 5."
   ]
  },
  {
   "cell_type": "code",
   "execution_count": 35,
   "id": "0f08907f",
   "metadata": {},
   "outputs": [
    {
     "name": "stdout",
     "output_type": "stream",
     "text": [
      "Номер билета:356725\n",
      "Билет счастливый!\n"
     ]
    }
   ],
   "source": [
    "number=int(input(\"Номер билета:\"))\n",
    "n = number // 100000\n",
    "u = (number-n*100000) // 10000\n",
    "m = (number-n*100000-u*10000) // 1000\n",
    "b = (number-n*100000-u*10000-m*1000) // 100\n",
    "e = (number-n*100000-u*10000-m*1000-b*100) // 10\n",
    "r = (number-n*100000-u*10000-m*1000-b*100-e*10)\n",
    "\n",
    "if (n+u+m) == (b+e+r):\n",
    "    print ('Билет счастливый!')\n",
    "else:\n",
    "    print('Билет несчастливый :(')"
   ]
  },
  {
   "cell_type": "markdown",
   "id": "449930dd",
   "metadata": {},
   "source": [
    "Задание 6."
   ]
  },
  {
   "cell_type": "code",
   "execution_count": 42,
   "id": "7596777c",
   "metadata": {},
   "outputs": [
    {
     "name": "stdout",
     "output_type": "stream",
     "text": [
      "Выберите фигуру (Круг, Треугольник, Квадрат):Треугольник\n",
      "Введите длину стороны 1:5\n",
      "Введите длину стороны 2:5\n",
      "Введите длину стороны 3:5\n",
      "Площадь =  10.825317547305483\n"
     ]
    }
   ],
   "source": [
    "import math\n",
    "type=input(\"Выберите фигуру (Круг, Треугольник, Квадрат):\")\n",
    "\n",
    "if type==\"Круг\":\n",
    "    r=int(input(\"Введите радиус круга:\"))\n",
    "    s=math.pi*(r**2)\n",
    "elif type==\"Квадрат\":\n",
    "    kv=int(input(\"Введите длину стороны квадрата:\"))\n",
    "    s=kv**2\n",
    "elif type==\"Треугольник\":\n",
    "    a=int(input(\"Введите длину стороны 1:\"))\n",
    "    b=int(input(\"Введите длину стороны 2:\"))\n",
    "    c=int(input(\"Введите длину стороны 3:\"))\n",
    "    semiperim=(a+b+c)/2\n",
    "    s=math.sqrt(semiperim*(semiperim-a)*(semiperim-b)*(semiperim-c))\n",
    "    \n",
    "print(\"Площадь = \", s)"
   ]
  },
  {
   "cell_type": "code",
   "execution_count": null,
   "id": "e0ca7d56",
   "metadata": {},
   "outputs": [],
   "source": []
  }
 ],
 "metadata": {
  "kernelspec": {
   "display_name": "Python 3",
   "language": "python",
   "name": "python3"
  },
  "language_info": {
   "codemirror_mode": {
    "name": "ipython",
    "version": 3
   },
   "file_extension": ".py",
   "mimetype": "text/x-python",
   "name": "python",
   "nbconvert_exporter": "python",
   "pygments_lexer": "ipython3",
   "version": "3.8.8"
  }
 },
 "nbformat": 4,
 "nbformat_minor": 5
}
