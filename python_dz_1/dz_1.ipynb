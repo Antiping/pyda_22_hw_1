{
 "cells": [
  {
   "cell_type": "code",
   "execution_count": 1,
   "id": "10d67ac6",
   "metadata": {},
   "outputs": [
    {
     "name": "stdout",
     "output_type": "stream",
     "text": [
      "Фраза 2 длиннее фразы 1\n"
     ]
    }
   ],
   "source": [
    "#ЗАДАНИЕ 1\n",
    "phrase_1 = '640Кб должно хватить для любых задач. Билл Гейтс (по легенде)'\n",
    "phrase_2 = 'Насколько проще было бы писать программы, если бы не заказчики'\n",
    "dl_phrase_1 = len(phrase_1)\n",
    "dl_phrase_2 = len(phrase_2)\n",
    "if dl_phrase_1 < dl_phrase_2:\n",
    "    print('Фраза 2 длиннее фразы 1')\n",
    "elif dl_phrase_1 > dl_phrase_2:\n",
    "    print('Фраза 1 длинее фразы 2')\n",
    "else: \n",
    "    print('Фразы равны')"
   ]
  },
  {
   "cell_type": "code",
   "execution_count": 4,
   "id": "184b52f3",
   "metadata": {},
   "outputs": [
    {
     "name": "stdout",
     "output_type": "stream",
     "text": [
      "Введите год: 2016\n",
      "Високосный год\n"
     ]
    }
   ],
   "source": [
    "#ЗАДАНИЕ 2    \n",
    "year = int(input(\"Введите год: \"))\n",
    "\n",
    "if year % 4 != 0:\n",
    "    print('Невисокосный год')\n",
    "elif  year % 100 == 0 and year % 400 !=0:\n",
    "    print('Невисокосный год')\n",
    "else:\n",
    "    print('Високосный год')    "
   ]
  },
  {
   "cell_type": "code",
   "execution_count": 6,
   "id": "768a7831",
   "metadata": {},
   "outputs": [
    {
     "name": "stdout",
     "output_type": "stream",
     "text": [
      "Введите день, 27\n",
      "Введите месяц, Февраль\n",
      "Ваш знак зодиака - Рыбы\n"
     ]
    }
   ],
   "source": [
    "# ЗАДАНИЕ 3\n",
    "day = int(input('Введите день, '))\n",
    "month = input('Введите месяц, ')\n",
    "if month == 'Январь' and 1<= day <=20 or month == 'Декарь' and 23<= day <=31:\n",
    "    print('Ваш знак зодиака - Козерог')\n",
    "elif month == 'Январь' and 21<= day <=31 or month == 'Февраль' and 1<= day <=19:\n",
    "    print('Ваш знак зодиака - Водолей')\n",
    "elif month == 'Февраль' and 20<= day <=28 or month == 'Март' and 1<= day <=20:\n",
    "    print('Ваш знак зодиака - Рыбы')\n",
    "elif month == 'Март' and 21<= day <=31 or month == 'Апрель' and 1<= day <=20:\n",
    "    print('Ваш знак зодиака - Овен')\n",
    "elif month == 'Апрель' and 21<= day <=30 or month == 'Май' and 1<= day <=21:\n",
    "    print('Ваш знак зодиака - Телец')  \n",
    "elif month == 'Май' and 22<= day <=31 or month == 'Июнь' and 1<= day <=21:\n",
    "    print('Ваш знак зодиака - Близнецы')\n",
    "elif month == 'Июнь' and 22<= day <=30 or month == 'Июль' and 1<= day <=22:\n",
    "    print('Ваш знак зодиака - Рак')  \n",
    "elif month == 'Июль' and 23<= day <=31 or month == 'Август' and 1<= day <=23:\n",
    "    print('Ваш знак зодиака - Лев')\n",
    "elif month == 'Август' and 24<= day <=31 or month == 'Сентябрь' and 1<= day <=23:\n",
    "    print('Ваш знак зодиака - Дева')\n",
    "elif month == 'Сентябрь' and 24<= day <=30 or month == 'Октябрь' and 1<= day <=23:\n",
    "    print('Ваш знак зодиака - Весы')  \n",
    "elif month == 'Октябрь' and 24<= day <=31 or month == 'Ноябрь' and 1<= day <=22:\n",
    "    print('Ваш знак зодиака - Скорпион')\n",
    "elif month == 'Ноябрь' and 23<= day <=30 or month == 'Декабрь' and 1<= day <=22:\n",
    "    print('Ваш знак зодиака - Стрелец') \n",
    "else:\n",
    "    print('Введите заново день и месяц')"
   ]
  },
  {
   "cell_type": "code",
   "execution_count": 14,
   "id": "3f574f93",
   "metadata": {},
   "outputs": [
    {
     "name": "stdout",
     "output_type": "stream",
     "text": [
      "Введите ширину, 45\n",
      "Введите длину, 205\n",
      "Введите высоту, 45\n",
      "Упаковка для лыж\n"
     ]
    }
   ],
   "source": [
    "#ЗАДАНИЕ 4\n",
    "width = int(input('Введите ширину, '))\n",
    "length = int(input('Введите длину, '))\n",
    "height = int(input('Введите высоту, '))\n",
    "if length > 200: \n",
    "    print('Упаковка для лыж')\n",
    "elif width <= 15 and length <= 15 and height <= 15:\n",
    "    print('Коробка №1')\n",
    "elif 15 < width <= 50 or 15 < length <= 50 or 15 < height <=50:\n",
    "    print('Коробка №2')\n",
    "else:\n",
    "    print('Стандартная коробка')"
   ]
  },
  {
   "cell_type": "code",
   "execution_count": 23,
   "id": "7af1cded",
   "metadata": {},
   "outputs": [
    {
     "name": "stdout",
     "output_type": "stream",
     "text": [
      "Введите номер билета: 123321\n",
      "Счастливый билет!\n"
     ]
    }
   ],
   "source": [
    "#ЗАДАНИЕ 5\n",
    "number = int(input('Введите номер билета: '))\n",
    "num_1 = number // 100000\n",
    "num_2 = number % 100000 // 10000\n",
    "num_3 = number % 10000 // 1000\n",
    "num_4 = number % 1000 // 100\n",
    "num_5 = number % 100 // 10\n",
    "num_6 = number % 10 // 1\n",
    "if num_1 + num_2 + num_3 == num_4 + num_5 + num_6:\n",
    "    print('Счастливый билет!')\n",
    "else:\n",
    "    print('Несчастливый билет')"
   ]
  },
  {
   "cell_type": "code",
   "execution_count": 28,
   "id": "86d16623",
   "metadata": {},
   "outputs": [
    {
     "name": "stdout",
     "output_type": "stream",
     "text": [
      "Введите тип фигуры, Треугольник\n",
      "Введите длину основания, 10\n",
      "Введите длину высоты, 5\n",
      "Площадь теругольник равна 25.0\n"
     ]
    }
   ],
   "source": [
    "#ЗАДАНИЕ 6\n",
    "x = input('Введите тип фигуры, ')\n",
    "if x == 'Круг':\n",
    "    r = int(input('Введите радиус, '))\n",
    "    p = 3.14\n",
    "    print('Площадь круга равна', p*r**2)\n",
    "elif x == 'Треугольник':\n",
    "    a = int(input('Введите длину основания, '))\n",
    "    h = int(input('Введите длину высоты, '))\n",
    "    print('Площадь теругольник равна', 1/2*a*h)\n",
    "elif x == 'Прямоугольник':\n",
    "    A = int(input('Введите длину, '))\n",
    "    B = int(input('Введите ширину, '))\n",
    "    print('Площадь прямоугольник равна', A*B)\n",
    "else:\n",
    "    print('Введите тип фигуры заново')"
   ]
  }
 ],
 "metadata": {
  "kernelspec": {
   "display_name": "Python 3",
   "language": "python",
   "name": "python3"
  },
  "language_info": {
   "codemirror_mode": {
    "name": "ipython",
    "version": 3
   },
   "file_extension": ".py",
   "mimetype": "text/x-python",
   "name": "python",
   "nbconvert_exporter": "python",
   "pygments_lexer": "ipython3",
   "version": "3.8.8"
  }
 },
 "nbformat": 4,
 "nbformat_minor": 5
}
