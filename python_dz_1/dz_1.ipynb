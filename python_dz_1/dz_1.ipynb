{
 "cells": [
  {
   "cell_type": "code",
   "execution_count": 1,
   "id": "10d67ac6",
   "metadata": {},
   "outputs": [
    {
     "name": "stdout",
     "output_type": "stream",
     "text": [
      "Фраза 2 длиннее фразы 1\n"
     ]
    }
   ],
   "source": [
    "#ЗАДАНИЕ 1\n",
    "phrase_1 = '640Кб должно хватить для любых задач. Билл Гейтс (по легенде)'\n",
    "phrase_2 = 'Насколько проще было бы писать программы, если бы не заказчики'\n",
    "if phrase_1 < phrase_2:\n",
    "    print('Фраза 2 длиннее фразы 1')\n",
    "elif phrase_1 > phrase_2:\n",
    "    print('Фраза 1 длинее фразы 2')\n",
    "else: \n",
    "    print('Фразы равны')"
   ]
  },
  {
   "cell_type": "code",
   "execution_count": 2,
   "id": "184b52f3",
   "metadata": {},
   "outputs": [
    {
     "name": "stdout",
     "output_type": "stream",
     "text": [
      "Высокосный год\n"
     ]
    }
   ],
   "source": [
    "#ЗАДАНИЕ 2\n",
    "year = 2008\n",
    "if year == 2020 or year == 2016 or year == 2012 or year == 2008:\n",
    "    print('Высокосный год')\n",
    "else:\n",
    "    print('Обычный год')"
   ]
  },
  {
   "cell_type": "code",
   "execution_count": 6,
   "id": "768a7831",
   "metadata": {},
   "outputs": [
    {
     "name": "stdout",
     "output_type": "stream",
     "text": [
      "Введите день, 3\n",
      "Введите месяц, Март\n",
      "Ваш знак зодиака - Рыбы\n"
     ]
    }
   ],
   "source": [
    "# ЗАДАНИЕ 3\n",
    "day = int(input('Введите день, '))\n",
    "month = input('Введите месяц, ')\n",
    "if month == 'Январь' and 1<= day <=20:\n",
    "    print('Ваш знак зодиака - Козерог')\n",
    "elif month == 'Январь' and 21<= day <=31:\n",
    "    print('Ваш знак зодиака - Водолей')\n",
    "elif month == 'Февраль' and 1<= day <=19:\n",
    "    print('Ваш знак зодиака - Водолей')\n",
    "elif month == 'Февраль' and 20<= day <=28:\n",
    "    print('Ваш знак зодиака - Рыбы')\n",
    "elif month == 'Март' and 1<= day <=20:\n",
    "    print('Ваш знак зодиака - Рыбы')\n",
    "elif month == 'Март' and 21<= day <=31:\n",
    "    print('Ваш знак зодиака - Овен')\n",
    "elif month == 'Апрель' and 1<= day <=20:\n",
    "    print('Ваш знак зодиака - Овен')\n",
    "elif month == 'Апрель' and 21<= day <=30:\n",
    "    print('Ваш знак зодиака - Телец')  \n",
    "elif month == 'Май' and 1<= day <=21:\n",
    "    print('Ваш знак зодиака - Телец')\n",
    "elif month == 'Май' and 22<= day <=31:\n",
    "    print('Ваш знак зодиака - Близнецы')\n",
    "elif month == 'Июнь' and 1<= day <=21:\n",
    "    print('Ваш знак зодиака - Близнецы')\n",
    "elif month == 'Июнь' and 22<= day <=30:\n",
    "    print('Ваш знак зодиака - Рак')  \n",
    "elif month == 'Июль' and 1<= day <=22:\n",
    "    print('Ваш знак зодиака - Рак')\n",
    "elif month == 'Июль' and 23<= day <=31:\n",
    "    print('Ваш знак зодиака - Лев')\n",
    "elif month == 'Август' and 1<= day <=23:\n",
    "    print('Ваш знак зодиака - Лев')\n",
    "elif month == 'Август' and 24<= day <=31:\n",
    "    print('Ваш знак зодиака - Дева')\n",
    "elif month == 'Сентябрь' and 1<= day <=23:\n",
    "    print('Ваш знак зодиака - Дева')\n",
    "elif month == 'Сентябрь' and 24<= day <=30:\n",
    "    print('Ваш знак зодиака - Весы')  \n",
    "elif month == 'Октябрь' and 1<= day <=23:\n",
    "    print('Ваш знак зодиака - Весы')\n",
    "elif month == 'Октябрь' and 24<= day <=31:\n",
    "    print('Ваш знак зодиака - Скорпион')\n",
    "elif month == 'Ноябрь' and 1<= day <=22:\n",
    "    print('Ваш знак зодиака - Скорпион')\n",
    "elif month == 'Ноябрь' and 23<= day <=30:\n",
    "    print('Ваш знак зодиака - Стрелец') \n",
    "elif month == 'Декабрь' and 1<= day <=22:\n",
    "    print('Ваш знак зодиака - Стрелец')\n",
    "elif month == 'Декарь' and 23<= day <=31:\n",
    "    print('Ваш знак зодиака - Козерог')\n",
    "else:\n",
    "    print('Введите заново день и месяц')"
   ]
  },
  {
   "cell_type": "code",
   "execution_count": 17,
   "id": "3f574f93",
   "metadata": {},
   "outputs": [
    {
     "name": "stdout",
     "output_type": "stream",
     "text": [
      "Введите ширину, 14\n",
      "Введите длину, 201\n",
      "Введите высоту, 14\n",
      "Упаковка для лыж\n"
     ]
    }
   ],
   "source": [
    "#ЗАДАНИЕ 4\n",
    "width = int(input('Введите ширину, '))\n",
    "length = int(input('Введите длину, '))\n",
    "height = int(input('Введите высоту, '))\n",
    "if width <= 15 and length <= 15 and height <= 15:\n",
    "    print('Коробка №1')\n",
    "elif 15 < width <= 50 or 15 < length <= 50 or 15 < height <=50:\n",
    "    print('Коробка №2')\n",
    "elif length > 200:\n",
    "    print('Упаковка для лыж')\n",
    "else:\n",
    "    print('Стандартная коробка')"
   ]
  },
  {
   "cell_type": "code",
   "execution_count": 28,
   "id": "86d16623",
   "metadata": {},
   "outputs": [
    {
     "name": "stdout",
     "output_type": "stream",
     "text": [
      "Введите тип фигуры, Треугольник\n",
      "Введите длину основания, 10\n",
      "Введите длину высоты, 5\n",
      "Площадь теругольник равна 25.0\n"
     ]
    }
   ],
   "source": [
    "#ЗАДАНИЕ 6\n",
    "x = input('Введите тип фигуры, ')\n",
    "if x == 'Круг':\n",
    "    r = int(input('Введите радиус, '))\n",
    "    p = 3.14\n",
    "    print('Площадь круга равна', p*r**2)\n",
    "elif x == 'Треугольник':\n",
    "    a = int(input('Введите длину основания, '))\n",
    "    h = int(input('Введите длину высоты, '))\n",
    "    print('Площадь теругольник равна', 1/2*a*h)\n",
    "elif x == 'Прямоугольник':\n",
    "    A = int(input('Введите длину, '))\n",
    "    B = int(input('Введите ширину, '))\n",
    "    print('Площадь прямоугольник равна', A*B)\n",
    "else:\n",
    "    print('Введите тип фигуры заново')"
   ]
  }
 ],
 "metadata": {
  "kernelspec": {
   "display_name": "Python 3",
   "language": "python",
   "name": "python3"
  },
  "language_info": {
   "codemirror_mode": {
    "name": "ipython",
    "version": 3
   },
   "file_extension": ".py",
   "mimetype": "text/x-python",
   "name": "python",
   "nbconvert_exporter": "python",
   "pygments_lexer": "ipython3",
   "version": "3.8.8"
  }
 },
 "nbformat": 4,
 "nbformat_minor": 5
}
