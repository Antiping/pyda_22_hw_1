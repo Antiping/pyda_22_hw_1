{
 "cells": [
  {
   "cell_type": "code",
   "execution_count": 16,
   "id": "eecd90d1",
   "metadata": {},
   "outputs": [
    {
     "name": "stdout",
     "output_type": "stream",
     "text": [
      "t\n"
     ]
    }
   ],
   "source": [
    "#Задание 1\n",
    "\n",
    "word = 'testing'\n",
    "if len(word) % 2 == 0:\n",
    "    print(word[1:3])\n",
    "else:\n",
    "    print(word[3])"
   ]
  },
  {
   "cell_type": "code",
   "execution_count": 24,
   "id": "f324789b",
   "metadata": {},
   "outputs": [
    {
     "name": "stdout",
     "output_type": "stream",
     "text": [
      "1\n",
      "1\n",
      "1\n",
      "1\n",
      "0\n",
      "4\n"
     ]
    }
   ],
   "source": [
    "#Задание 2\n",
    "x = int(input())\n",
    "sum = 0\n",
    "while x != 0:\n",
    "    sum += x\n",
    "    x = int(input())\n",
    "print(sum)"
   ]
  },
  {
   "cell_type": "code",
   "execution_count": 91,
   "id": "9cf2154b",
   "metadata": {},
   "outputs": [
    {
     "name": "stdout",
     "output_type": "stream",
     "text": [
      "Alex и Emma\n",
      "Arthur и Kate\n",
      "John и Kira\n",
      "Peter и Liza\n",
      "Richard и Trisha\n"
     ]
    }
   ],
   "source": [
    "#Задание 3\n",
    "boys = ['Peter', 'Alex', 'John', 'Arthur', 'Richard']\n",
    "girls = ['Kate', 'Liza', 'Kira', 'Emma', 'Trisha']\n",
    "b = len(boys)\n",
    "g = len(girls)\n",
    "if b == g:\n",
    "    boys.sort()\n",
    "    girls.sort()\n",
    "    dating = zip(boys, girls)\n",
    "    for para in dating:\n",
    "        print(f'{para[0]} и {para[1]}')\n",
    "else:\n",
    "    print('Внимание, кто-то может остаться без пары!')"
   ]
  },
  {
   "cell_type": "code",
   "execution_count": 121,
   "id": "aec4039c",
   "metadata": {},
   "outputs": [
    {
     "name": "stdout",
     "output_type": "stream",
     "text": [
      "Thailand -  24.048\n",
      "Germany -  13.9104\n",
      "Russian -  3.744000000000003\n",
      "Poland -  12.095999999999998\n"
     ]
    }
   ],
   "source": [
    "#Задание 4\n",
    "countries_temperature = [\n",
    "    ['Thailand', [75.2, 77, 78.8, 73.4, 68, 75.2, 77]],\n",
    "    ['Germany', [57.2, 55.4, 59, 59, 53.6]],\n",
    "    ['Russia', [35.6, 37.4, 39.2, 41, 42.8, 39.2, 35.6]],\n",
    "    ['Poland', [50, 50, 53.6, 57.2, 55.4, 55.4]]\n",
    "]\n",
    "print('Thailand - ', ((countries_temperature[0][1][0] + \n",
    "      countries_temperature[0][1][1] + \n",
    "      countries_temperature[0][1][2] + \n",
    "      countries_temperature[0][1][3] + \n",
    "      countries_temperature[0][1][4] + \n",
    "      countries_temperature[0][1][5] + \n",
    "      countries_temperature[0][1][6])/len(countries_temperature[0][1])-32)*0.56)\n",
    "print('Germany - ', ((countries_temperature[1][1][0] + \n",
    "      countries_temperature[1][1][1] + \n",
    "      countries_temperature[1][1][2] + \n",
    "      countries_temperature[1][1][3] + \n",
    "      countries_temperature[1][1][4])/len(countries_temperature[1][1])-32)*0.56)\n",
    "print('Russian - ', ((countries_temperature[2][1][0] + \n",
    "      countries_temperature[2][1][1] + \n",
    "      countries_temperature[2][1][2] + \n",
    "      countries_temperature[2][1][3] + \n",
    "      countries_temperature[2][1][4] + \n",
    "      countries_temperature[2][1][5] + \n",
    "      countries_temperature[2][1][6])/len(countries_temperature[2][1])-32)*0.56)\n",
    "print('Poland - ', ((countries_temperature[3][1][0] + \n",
    "      countries_temperature[3][1][1] + \n",
    "      countries_temperature[3][1][2] + \n",
    "      countries_temperature[3][1][3] + \n",
    "      countries_temperature[3][1][4] + \n",
    "      countries_temperature[3][1][5])/len(countries_temperature[3][1])-32)*0.56)"
   ]
  }
 ],
 "metadata": {
  "kernelspec": {
   "display_name": "Python 3",
   "language": "python",
   "name": "python3"
  },
  "language_info": {
   "codemirror_mode": {
    "name": "ipython",
    "version": 3
   },
   "file_extension": ".py",
   "mimetype": "text/x-python",
   "name": "python",
   "nbconvert_exporter": "python",
   "pygments_lexer": "ipython3",
   "version": "3.8.8"
  }
 },
 "nbformat": 4,
 "nbformat_minor": 5
}
